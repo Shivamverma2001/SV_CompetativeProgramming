{
 "cells": [
  {
   "cell_type": "code",
   "execution_count": 6,
   "metadata": {},
   "outputs": [
    {
     "name": "stdout",
     "output_type": "stream",
     "text": [
      "mavihS\n"
     ]
    }
   ],
   "source": [
    "def reverseList(A):\n",
    "    print(A[::-1])\n",
    "A=\"Shivam\"\n",
    "reverseList(A)"
   ]
  },
  {
   "cell_type": "code",
   "execution_count": null,
   "metadata": {},
   "outputs": [],
   "source": []
  },
  {
   "cell_type": "code",
   "execution_count": 5,
   "metadata": {},
   "outputs": [
    {
     "name": "stdout",
     "output_type": "stream",
     "text": [
      "Minimum element is 1\n",
      "Maximum element is 3000\n"
     ]
    }
   ],
   "source": [
    "def getMinMax(arr):\n",
    "    n=len(arr)\n",
    "    if(n%2==0):\n",
    "        mn=min(arr[0],arr[1])\n",
    "        mx=max(arr[0],arr[1])\n",
    "        i=2\n",
    "    else:\n",
    "        mn=mx=arr[0]\n",
    "        i=1\n",
    "    while(i<n-1):\n",
    "        if(arr[i]<arr[i+1]):\n",
    "            mn=min(mn,arr[i])\n",
    "            mx=max(mx,arr[i+1])\n",
    "        else:\n",
    "            mn=min(mn,arr[i+1])\n",
    "            mx=max(mx,arr[i])\n",
    "        i+=2\n",
    "    return (mx,mn)\n",
    "    #main\n",
    "if __name__ =='__main__':\n",
    "     \n",
    "    arr = [1000, 11, 445, 1, 330, 3000]\n",
    "    mx, mn = getMinMax(arr)\n",
    "    print(\"Minimum element is\", mn)\n",
    "    print(\"Maximum element is\", mx)"
   ]
  },
  {
   "cell_type": "code",
   "execution_count": 20,
   "metadata": {},
   "outputs": [
    {
     "name": "stdout",
     "output_type": "stream",
     "text": [
      "[5, 4, 3]\n",
      "[5, 4, 2, 3, 1]\n",
      "5\n",
      "4\n",
      "3\n"
     ]
    }
   ],
   "source": [
    "import heapq\n",
    "arr=[1,3,2,5,4]\n",
    "heapq._heapify_max(arr)\n",
    "print(arr)\n",
    "print(heapq.heappop(arr))\n",
    "heapq._heapify_max(arr)\n",
    "print(heapq.heappop(arr))\n",
    "heapq._heapify_max(arr)\n",
    "print(heapq.heappop(arr))\n"
   ]
  },
  {
   "cell_type": "code",
   "execution_count": 21,
   "metadata": {},
   "outputs": [
    {
     "name": "stdout",
     "output_type": "stream",
     "text": [
      "[0, 0, 1, 2, 2]\n"
     ]
    }
   ],
   "source": [
    "N = 5\n",
    "arr= [0,2,1,2,0]\n",
    "i=0\n",
    "j=N-1\n",
    "p=0\n",
    "temp=0\n",
    "while(p<=j):\n",
    "    if(arr[p]==0):\n",
    "        temp=arr[p]\n",
    "        arr[p]=arr[i]\n",
    "        arr[i]=temp\n",
    "        i+=1\n",
    "        p+=1\n",
    "    elif(arr[p]==2):\n",
    "        temp=arr[p]\n",
    "        arr[p]=arr[j]\n",
    "        arr[j]=temp\n",
    "        j-=1\n",
    "    else:\n",
    "        p+=1\n",
    "print(arr)"
   ]
  }
 ],
 "metadata": {
  "kernelspec": {
   "display_name": "Python 3.10.4 64-bit",
   "language": "python",
   "name": "python3"
  },
  "language_info": {
   "codemirror_mode": {
    "name": "ipython",
    "version": 3
   },
   "file_extension": ".py",
   "mimetype": "text/x-python",
   "name": "python",
   "nbconvert_exporter": "python",
   "pygments_lexer": "ipython3",
   "version": "3.10.4"
  },
  "orig_nbformat": 4,
  "vscode": {
   "interpreter": {
    "hash": "26de051ba29f2982a8de78e945f0abaf191376122a1563185a90213a26c5da77"
   }
  }
 },
 "nbformat": 4,
 "nbformat_minor": 2
}
